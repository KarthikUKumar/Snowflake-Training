{
 "cells": [
  {
   "cell_type": "code",
   "execution_count": 39,
   "id": "ffeaf0f2",
   "metadata": {},
   "outputs": [],
   "source": [
    "from snowflake.snowpark.session import Session\n",
    "from snowflake.snowpark.functions import avg, sum, col,lit\n",
    "import configparser\n",
    "import pandas as pd\n",
    "\n",
    "parser = configparser.ConfigParser()\n",
    "parser.read(\"config.yml\")\n",
    "user = parser.get(\"Credentials\", \"username\")\n",
    "password = parser.get(\"Credentials\", \"password\")\n",
    "acctName = parser.get(\"Credentials\", \"account\")\n",
    "wh = parser.get(\"Credentials\", \"warehouse\")\n",
    "dbname = parser.get(\"Credentials\", \"database\")\n",
    "schema = parser.get(\"Credentials\", \"schema\")\n",
    "role = parser.get(\"Credentials\", \"role\")"
   ]
  },
  {
   "cell_type": "code",
   "execution_count": 41,
   "id": "06a28370",
   "metadata": {},
   "outputs": [
    {
     "name": "stdout",
     "output_type": "stream",
     "text": [
      "--------------------------------------------------------------\n",
      "|\"WH\"        |\"DB\"     |\"SCHEMA\"     |\"V\"     |\"ROLE\"        |\n",
      "--------------------------------------------------------------\n",
      "|COMPUTE_WH  |TEST_DB  |TEST_SCHEMA  |7.17.0  |ACCOUNTADMIN  |\n",
      "--------------------------------------------------------------\n",
      "\n"
     ]
    }
   ],
   "source": [
    "#bgouoha-kn32396\n",
    "connection_parameters = {\n",
    "   \"account\": acctName,\n",
    "   \"user\": user,\n",
    "   \"password\": password,\n",
    "   \"warehouse\": wh,\n",
    "   \"role\": role,\n",
    "   \"database\": \"TEST_DB\",\n",
    "   \"schema\": \"TEST_SCHEMA\"\n",
    "}\n",
    "session = Session.builder.configs(connection_parameters).create()\n",
    "\n",
    "\n",
    "# test if we have a connection\n",
    "session.sql(\"select current_warehouse() wh, current_database() db, current_schema() schema, current_version() v,current_role() role\").show()"
   ]
  },
  {
   "cell_type": "code",
   "execution_count": 42,
   "id": "d6df9e10",
   "metadata": {},
   "outputs": [
    {
     "name": "stdout",
     "output_type": "stream",
     "text": [
      "-------\n",
      "|\"A\"  |\n",
      "-------\n",
      "|1    |\n",
      "|2    |\n",
      "|3    |\n",
      "|4    |\n",
      "-------\n",
      "\n"
     ]
    }
   ],
   "source": [
    "df1 = session.create_dataframe([1, 2, 3, 4]).to_df(\"a\") \n",
    "df1.show()"
   ]
  },
  {
   "cell_type": "code",
   "execution_count": 43,
   "id": "82519faa",
   "metadata": {},
   "outputs": [
    {
     "name": "stdout",
     "output_type": "stream",
     "text": [
      "-------------------------\n",
      "|\"A\"  |\"B\"  |\"C\"  |\"D\"  |\n",
      "-------------------------\n",
      "|1    |2    |3    |4    |\n",
      "|5    |6    |7    |8    |\n",
      "-------------------------\n",
      "\n"
     ]
    }
   ],
   "source": [
    "df2 = session.create_dataframe([[1, 2, 3, 4],[5,6,7,8]], schema=[\"a\", \"b\", \"c\", \"d\"])\n",
    "df2.show()"
   ]
  },
  {
   "cell_type": "code",
   "execution_count": 45,
   "id": "faf4daba",
   "metadata": {},
   "outputs": [
    {
     "name": "stdout",
     "output_type": "stream",
     "text": [
      "-------------------------\n",
      "|\"A\"  |\"B\"  |\"C\"  |\"D\"  |\n",
      "-------------------------\n",
      "|1    |2    |3    |4    |\n",
      "-------------------------\n",
      "\n"
     ]
    }
   ],
   "source": [
    "from snowflake.snowpark import Row\n",
    "df3 = session.create_dataframe([Row(a=1, b=2, c=3, d=4)])\n",
    "df3.show()"
   ]
  },
  {
   "cell_type": "code",
   "execution_count": 16,
   "id": "34a417ef",
   "metadata": {},
   "outputs": [
    {
     "name": "stdout",
     "output_type": "stream",
     "text": [
      "---------------\n",
      "|\"A\"  |\"B\"    |\n",
      "---------------\n",
      "|1    |snow   |\n",
      "|3    |flake  |\n",
      "---------------\n",
      "\n"
     ]
    }
   ],
   "source": [
    "from snowflake.snowpark.types import IntegerType, StringType, StructType, StructField\n",
    "schema = StructType([StructField(\"a\", IntegerType()), StructField(\"b\", StringType())])\n",
    "df4 = session.create_dataframe([[1, \"snow\"], [3, \"flake\"]], schema)\n",
    "df4.show()"
   ]
  },
  {
   "cell_type": "code",
   "execution_count": 46,
   "id": "f3378b25",
   "metadata": {},
   "outputs": [
    {
     "name": "stdout",
     "output_type": "stream",
     "text": [
      "-------\n",
      "|\"A\"  |\n",
      "-------\n",
      "|1    |\n",
      "|3    |\n",
      "|5    |\n",
      "|7    |\n",
      "|9    |\n",
      "-------\n",
      "\n"
     ]
    }
   ],
   "source": [
    "df_range = session.range(1, 10, 2).to_df(\"a\")\n",
    "df_range.show()"
   ]
  },
  {
   "cell_type": "code",
   "execution_count": 48,
   "id": "fb03f32d",
   "metadata": {},
   "outputs": [
    {
     "data": {
      "text/plain": [
       "[PutResult(source='Student_Info.csv', target='Student_Info.csv.gz', source_size=156, target_size=176, source_compression='NONE', target_compression='GZIP', status='UPLOADED', message='')]"
      ]
     },
     "execution_count": 48,
     "metadata": {},
     "output_type": "execute_result"
    }
   ],
   "source": [
    "session.file.put(\"Student_Info.csv\", \"@my_internal_stage/Student_Info/\")"
   ]
  },
  {
   "cell_type": "code",
   "execution_count": 49,
   "id": "ed68f0cf",
   "metadata": {},
   "outputs": [
    {
     "name": "stdout",
     "output_type": "stream",
     "text": [
      "---------------------------------\n",
      "|\"ID\"  |\"NAME\"   |\"PERCENTAGE\"  |\n",
      "---------------------------------\n",
      "|ID    |Name     |Percentage    |\n",
      "|1     |Harsha   |87.5          |\n",
      "|2     |Roy      |67            |\n",
      "|3     |Ram      |97.4          |\n",
      "|4     |Joy      |39.5          |\n",
      "|5     |Francis  |57            |\n",
      "|6     |Raksha   |76            |\n",
      "|7     |Darshan  |36            |\n",
      "|8     |Garry    |89.3          |\n",
      "|9     |Jose     |45.2          |\n",
      "---------------------------------\n",
      "\n"
     ]
    }
   ],
   "source": [
    "from snowflake.snowpark.types import StructType, StructField, StringType, IntegerType, FloatType\n",
    "\n",
    "# Create DataFrames from data in a stage.\n",
    "df_catalog = session.read.schema(StructType([StructField(\"id\", StringType()), StructField(\"name\", StringType()),StructField(\"percentage\", StringType())])).csv(\"@my_internal_stage/Sample_Files/\")\n",
    "df_catalog.show()"
   ]
  },
  {
   "cell_type": "code",
   "execution_count": 51,
   "id": "fc084b2e",
   "metadata": {},
   "outputs": [
    {
     "name": "stdout",
     "output_type": "stream",
     "text": [
      "-----------------------\n",
      "|\"ID\"  |\"PERCENTAGE\"  |\n",
      "-----------------------\n",
      "|ID    |Percentage    |\n",
      "|1     |87.5          |\n",
      "|2     |67            |\n",
      "|3     |97.4          |\n",
      "|4     |39.5          |\n",
      "|5     |57            |\n",
      "|6     |76            |\n",
      "|7     |36            |\n",
      "|8     |89.3          |\n",
      "|9     |45.2          |\n",
      "-----------------------\n",
      "\n"
     ]
    }
   ],
   "source": [
    "from snowflake.snowpark.functions import col\n",
    "\n",
    "df_product_info = df_catalog\n",
    "df1 = df_product_info.select(df_product_info.id, df_product_info[\"percentage\"])\n",
    "df1.show()\n"
   ]
  },
  {
   "cell_type": "code",
   "execution_count": 52,
   "id": "e2321210",
   "metadata": {},
   "outputs": [
    {
     "name": "stdout",
     "output_type": "stream",
     "text": [
      "---------------------------------\n",
      "|\"ID\"  |\"NAME\"   |\"PERCENTAGE\"  |\n",
      "---------------------------------\n",
      "|ID    |Name     |Percentage    |\n",
      "|1     |Harsha   |87.5          |\n",
      "|2     |Roy      |67            |\n",
      "|3     |Ram      |97.4          |\n",
      "|4     |Joy      |39.5          |\n",
      "|5     |Francis  |57            |\n",
      "|6     |Raksha   |76            |\n",
      "|7     |Darshan  |36            |\n",
      "|8     |Garry    |89.3          |\n",
      "|9     |Jose     |45.2          |\n",
      "---------------------------------\n",
      "\n"
     ]
    }
   ],
   "source": [
    "df2 = df_product_info.select(df_product_info.id, df_product_info.name, df_product_info.percentage)\n",
    "df2.show()"
   ]
  },
  {
   "cell_type": "code",
   "execution_count": 53,
   "id": "9784396c",
   "metadata": {},
   "outputs": [
    {
     "name": "stdout",
     "output_type": "stream",
     "text": [
      "---------------------------------\n",
      "|\"ID\"  |\"NAME\"   |\"PERCENTAGE\"  |\n",
      "---------------------------------\n",
      "|ID    |Name     |Percentage    |\n",
      "|1     |Harsha   |87.5          |\n",
      "|2     |Roy      |67            |\n",
      "|3     |Ram      |97.4          |\n",
      "|4     |Joy      |39.5          |\n",
      "|5     |Francis  |57            |\n",
      "|6     |Raksha   |76            |\n",
      "|7     |Darshan  |36            |\n",
      "|8     |Garry    |89.3          |\n",
      "|9     |Jose     |45.2          |\n",
      "---------------------------------\n",
      "\n"
     ]
    }
   ],
   "source": [
    "df3 = df_product_info.select(\"id\", \"name\", \"percentage\")\n",
    "df3.show()"
   ]
  },
  {
   "cell_type": "code",
   "execution_count": 54,
   "id": "c5d8a3d8",
   "metadata": {},
   "outputs": [
    {
     "name": "stdout",
     "output_type": "stream",
     "text": [
      "--------------------\n",
      "|\"KEY\"  |\"VALUE1\"  |\n",
      "--------------------\n",
      "|a      |1         |\n",
      "|b      |2         |\n",
      "--------------------\n",
      "\n",
      "--------------------\n",
      "|\"KEY\"  |\"VALUE2\"  |\n",
      "--------------------\n",
      "|a      |3         |\n",
      "|b      |4         |\n",
      "--------------------\n",
      "\n"
     ]
    }
   ],
   "source": [
    "df_lhs = session.create_dataframe([[\"a\", 1], [\"b\", 2]], schema=[\"key\", \"value1\"])\n",
    "df_rhs = session.create_dataframe([[\"a\", 3], [\"b\", 4]], schema=[\"key\", \"value2\"])\n",
    "df_lhs.show()\n",
    "df_rhs.show()"
   ]
  },
  {
   "cell_type": "code",
   "execution_count": 55,
   "id": "1ab850cd",
   "metadata": {},
   "outputs": [
    {
     "name": "stdout",
     "output_type": "stream",
     "text": [
      "-------------------------------\n",
      "|\"KEY\"  |\"VALUE1\"  |\"VALUE2\"  |\n",
      "-------------------------------\n",
      "|a      |1         |3         |\n",
      "|b      |2         |4         |\n",
      "-------------------------------\n",
      "\n"
     ]
    }
   ],
   "source": [
    "df_lhs.join(df_rhs, df_lhs.col(\"key\") == df_rhs.col(\"key\")).select(df_lhs[\"key\"].as_(\"key\"), \"value1\", \"value2\").show()"
   ]
  },
  {
   "cell_type": "code",
   "execution_count": 56,
   "id": "e6175085",
   "metadata": {},
   "outputs": [
    {
     "name": "stdout",
     "output_type": "stream",
     "text": [
      "You cannot join a DataFrame with itself because the column references cannot be resolved correctly. Instead, create a copy of the DataFrame with copy.copy(), and join the DataFrame with this copy.\n"
     ]
    }
   ],
   "source": [
    "from snowflake.snowpark.exceptions import SnowparkJoinException\n",
    "df=session.table(\"locally_loaded_table\")\n",
    "try:\n",
    "    df_joined = df.join(df, col(\"id\") == col(\"parent_id\")) # fails\n",
    "except SnowparkJoinException as e:\n",
    "    print(e.message)"
   ]
  },
  {
   "cell_type": "code",
   "execution_count": 57,
   "id": "1c7ddf86",
   "metadata": {},
   "outputs": [
    {
     "name": "stdout",
     "output_type": "stream",
     "text": [
      "-------------------------------------------------------------------\n",
      "|\"l_k8ne_KEY\"  |\"l_k8ne_VALUE1\"  |\"r_58fs_KEY\"  |\"r_58fs_VALUE1\"  |\n",
      "-------------------------------------------------------------------\n",
      "|a             |1                |a             |1                |\n",
      "|b             |2                |b             |2                |\n",
      "-------------------------------------------------------------------\n",
      "\n"
     ]
    }
   ],
   "source": [
    "from copy import copy\n",
    "df_lhs = session.create_dataframe([[\"a\", 1], [\"b\", 2]], schema=[\"key\", \"value1\"])\n",
    "df_rhs = session.create_dataframe([[\"a\", 3], [\"b\", 4]], schema=[\"key\", \"value2\"])\n",
    "df_lhs_copied = copy(df_lhs)\n",
    "df_self_joined = df_lhs.join(df_lhs_copied, (df_lhs.col(\"key\") == df_lhs_copied.col(\"key\")) & (df_lhs.col(\"value1\") == df_lhs_copied.col(\"value1\")))\n",
    "df_self_joined.show()"
   ]
  },
  {
   "cell_type": "code",
   "execution_count": 58,
   "id": "63cd72df",
   "metadata": {},
   "outputs": [
    {
     "name": "stdout",
     "output_type": "stream",
     "text": [
      "-------------\n",
      "|\"A\"  |\"B\"  |\n",
      "-------------\n",
      "|1    |3    |\n",
      "|2    |10   |\n",
      "-------------\n",
      "\n",
      "-------------\n",
      "|\"A\"  |\"B\"  |\n",
      "-------------\n",
      "|1    |3    |\n",
      "-------------\n",
      "\n"
     ]
    }
   ],
   "source": [
    ">>> df = session.create_dataframe([[1, 3], [2, 10]], schema=[\"a\", \"b\"])\n",
    ">>> df.show()\n",
    ">>> # Specify the equivalent of \"WHERE a + b < 10\"\n",
    ">>> # in a SQL SELECT statement.\n",
    ">>> df_filtered = df.filter((col(\"a\") + col(\"b\")) < 10)\n",
    ">>> df_filtered.show()\n",
    ">>> # To return the DataFrame as a table in a Python worksheet use return instead of show()\n",
    ">>> # return df_filtered"
   ]
  },
  {
   "cell_type": "code",
   "execution_count": 59,
   "id": "603381fd",
   "metadata": {},
   "outputs": [
    {
     "name": "stdout",
     "output_type": "stream",
     "text": [
      "000904 (42000): SQL compilation error: error line 1 at position 7\n",
      "invalid identifier 'ID'\n"
     ]
    }
   ],
   "source": [
    ">>> from snowflake.snowpark.exceptions import SnowparkSQLException\n",
    ">>> try:\n",
    "...     df.select(col(\"ID\")).collect()\n",
    "... except SnowparkSQLException as e:\n",
    "...     print(e.message)"
   ]
  },
  {
   "cell_type": "code",
   "execution_count": 60,
   "id": "5d0c17bb",
   "metadata": {},
   "outputs": [],
   "source": [
    "df.write.mode(\"overwrite\").save_as_table(\"table1\")"
   ]
  },
  {
   "cell_type": "code",
   "execution_count": 22,
   "id": "4481ae46",
   "metadata": {},
   "outputs": [
    {
     "name": "stdout",
     "output_type": "stream",
     "text": [
      "-------------\n",
      "|\"A\"  |\"B\"  |\n",
      "-------------\n",
      "|1    |3    |\n",
      "|2    |10   |\n",
      "-------------\n",
      "\n"
     ]
    }
   ],
   "source": [
    "df_table=session.table(\"table1\")\n",
    "df.show()"
   ]
  },
  {
   "cell_type": "code",
   "execution_count": 61,
   "id": "82e4584b",
   "metadata": {},
   "outputs": [
    {
     "data": {
      "text/plain": [
       "[Row(status='View SAMPLE_VIEW successfully created.')]"
      ]
     },
     "execution_count": 61,
     "metadata": {},
     "output_type": "execute_result"
    }
   ],
   "source": [
    "df.create_or_replace_view(\"Sample_View\")"
   ]
  },
  {
   "cell_type": "code",
   "execution_count": 25,
   "id": "4ad666d2",
   "metadata": {},
   "outputs": [
    {
     "name": "stdout",
     "output_type": "stream",
     "text": [
      "-------------\n",
      "|\"A\"  |\"B\"  |\n",
      "-------------\n",
      "|1    |3    |\n",
      "|2    |10   |\n",
      "-------------\n",
      "\n"
     ]
    }
   ],
   "source": [
    "df_view=session.table(\"Sample_View\")\n",
    "df.show()"
   ]
  },
  {
   "cell_type": "code",
   "execution_count": 63,
   "id": "72e343ce",
   "metadata": {},
   "outputs": [
    {
     "name": "stdout",
     "output_type": "stream",
     "text": [
      "-----------------------------------------------\n",
      "|\"ID\"  |\"NAME\"   |\"DESIGNATION\"   |\"CITY\"     |\n",
      "-----------------------------------------------\n",
      "|20    |Ajay     |Data Analyst 1  |Noida      |\n",
      "|17    |Vihay    |DataData        |Bengaluru  |\n",
      "|20    |Ajay     |Data Analyst 1  |Noida      |\n",
      "|21    |Vihay    |DataData        |Bengaluru  |\n",
      "|12    |Nobody   |Data Analyst 1  |Noida      |\n",
      "|13    |Chinmay  |DataData        |BBB        |\n",
      "|13    |Karthik  |Data Analyst 1  |Karkala    |\n",
      "-----------------------------------------------\n",
      "\n"
     ]
    },
    {
     "data": {
      "text/plain": [
       "[Row(UPPER_NAME='AJAY'),\n",
       " Row(UPPER_NAME='VIHAY'),\n",
       " Row(UPPER_NAME='NOBODY'),\n",
       " Row(UPPER_NAME='CHINMAY'),\n",
       " Row(UPPER_NAME='KARTHIK'),\n",
       " Row(UPPER_NAME='AJAY'),\n",
       " Row(UPPER_NAME='VIHAY')]"
      ]
     },
     "execution_count": 63,
     "metadata": {},
     "output_type": "execute_result"
    }
   ],
   "source": [
    ">>> # Import the upper function from the functions module.\n",
    ">>> from snowflake.snowpark.functions import upper, col\n",
    ">>> session.table(\"local_loaded_table\").show()\n",
    ">>> session.table(\"local_loaded_table\").select(upper(col(\"name\")).alias(\"upper_name\")).collect()"
   ]
  },
  {
   "cell_type": "code",
   "execution_count": 64,
   "id": "d49c0b1d",
   "metadata": {},
   "outputs": [
    {
     "name": "stdout",
     "output_type": "stream",
     "text": [
      "[Row(RADIANS(\"COL1\")=1.047197551), Row(RADIANS(\"COL1\")=3.141592654)]\n"
     ]
    }
   ],
   "source": [
    ">>> # Import the call_function function from the functions module.\n",
    ">>> from snowflake.snowpark.functions import call_function\n",
    ">>> df = session.create_dataframe([[60, 2], [180, 4]], schema=[\"col1\", \"col2\"])\n",
    ">>> # Call the system-defined function RADIANS() on col1.\n",
    ">>> df_result=df.select(call_function(\"radians\", col(\"col1\"))).collect()\n",
    ">>> print(df_result)"
   ]
  },
  {
   "cell_type": "code",
   "execution_count": null,
   "id": "2595cbb9",
   "metadata": {},
   "outputs": [],
   "source": []
  }
 ],
 "metadata": {
  "kernelspec": {
   "display_name": "Python 3",
   "language": "python",
   "name": "python3"
  },
  "language_info": {
   "codemirror_mode": {
    "name": "ipython",
    "version": 3
   },
   "file_extension": ".py",
   "mimetype": "text/x-python",
   "name": "python",
   "nbconvert_exporter": "python",
   "pygments_lexer": "ipython3",
   "version": "3.8.8"
  }
 },
 "nbformat": 4,
 "nbformat_minor": 5
}
