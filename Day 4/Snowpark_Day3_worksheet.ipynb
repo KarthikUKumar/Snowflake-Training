{
 "cells": [
  {
   "cell_type": "code",
   "execution_count": 9,
   "id": "8705e38f",
   "metadata": {},
   "outputs": [],
   "source": [
    "from snowflake.snowpark.session import Session\n",
    "from snowflake.snowpark.functions import avg, sum, col,lit\n",
    "import configparser\n",
    "import pandas as pd\n",
    "\n",
    "parser = configparser.ConfigParser()\n",
    "parser.read(\"config.yml\")\n",
    "user = parser.get(\"Credentials\", \"username\")\n",
    "password = parser.get(\"Credentials\", \"password\")\n",
    "acctName = parser.get(\"Credentials\", \"account\")\n",
    "wh = parser.get(\"Credentials\", \"warehouse\")\n",
    "dbname = parser.get(\"Credentials\", \"database\")\n",
    "schema = parser.get(\"Credentials\", \"schema\")\n",
    "role = parser.get(\"Credentials\", \"role\")"
   ]
  },
  {
   "cell_type": "code",
   "execution_count": 10,
   "id": "572c1762",
   "metadata": {},
   "outputs": [],
   "source": [
    "import streamlit as st\n",
    "st.set_page_config(\n",
    "page_title=\"COVID-19 Epidemiological Data\",\n",
    "page_icon=\"🧊\",\n",
    "layout=\"wide\",\n",
    "initial_sidebar_state=\"expanded\",\n",
    "menu_items={\n",
    "'Get Help': 'https://developers.snowflake.com',\n",
    "'About': \"This is an *extremely* cool app powered by Snowpark for Python, Streamlit, and Snowflake Data Marketplace\"\n",
    "}\n",
    ")"
   ]
  },
  {
   "cell_type": "code",
   "execution_count": 11,
   "id": "755489b0",
   "metadata": {},
   "outputs": [
    {
     "name": "stdout",
     "output_type": "stream",
     "text": [
      "--------------------------------------------------------------------------------\n",
      "|\"WH\"        |\"DB\"                          |\"SCHEMA\"  |\"V\"     |\"ROLE\"        |\n",
      "--------------------------------------------------------------------------------\n",
      "|COMPUTE_WH  |COVID19_EPIDEMIOLOGICAL_DATA  |PUBLIC    |7.22.1  |ACCOUNTADMIN  |\n",
      "--------------------------------------------------------------------------------\n",
      "\n"
     ]
    }
   ],
   "source": [
    "connection_parameters = {\n",
    "   \"account\": acctName,\n",
    "   \"user\": user,\n",
    "   \"password\": password,\n",
    "   \"warehouse\": wh,\n",
    "   \"role\": role,\n",
    "   \"database\": dbname,\n",
    "   \"schema\": schema\n",
    "}\n",
    "session = Session.builder.configs(connection_parameters).create()\n",
    "\n",
    "\n",
    "# test if we have a connection\n",
    "session.sql(\"select current_warehouse() wh, current_database() db, current_schema() schema, current_version() v,current_role() role\").show()"
   ]
  },
  {
   "cell_type": "code",
   "execution_count": 12,
   "id": "0ec30fc3",
   "metadata": {},
   "outputs": [
    {
     "name": "stdout",
     "output_type": "stream",
     "text": [
      "-------------------------------------------------------\n",
      "|\"COUNTRY_REGION\"     |\"Total Number of COVID Cases\"  |\n",
      "-------------------------------------------------------\n",
      "|Afghanistan          |49273.0                        |\n",
      "|Albania              |48530.0                        |\n",
      "|Algeria              |92102.0                        |\n",
      "|Andorra              |7338.0                         |\n",
      "|Angola               |16188.0                        |\n",
      "|Anguilla             |10.0                           |\n",
      "|Antigua and Barbuda  |148.0                          |\n",
      "|Argentina            |1498160.0                      |\n",
      "|Armenia              |148682.0                       |\n",
      "|Aruba                |5049.0                         |\n",
      "-------------------------------------------------------\n",
      "\n"
     ]
    }
   ],
   "source": [
    "snow_df_covid_cases = session.table(\"ECDC_GLOBAL\")\n",
    "snow_df_covid_cases = snow_df_covid_cases.group_by('COUNTRY_REGION').agg(sum('CASES').alias(\"Total Number of COVID Cases\")).sort('COUNTRY_REGION')\n",
    "snow_df_covid_cases.show()"
   ]
  },
  {
   "cell_type": "code",
   "execution_count": 13,
   "id": "5137f770",
   "metadata": {},
   "outputs": [],
   "source": [
    "\n",
    "list_df_covid_cases = snow_df_covid_cases.collect()\n"
   ]
  },
  {
   "cell_type": "code",
   "execution_count": 14,
   "id": "71e1b2bd",
   "metadata": {},
   "outputs": [],
   "source": [
    "pandas_df = pd.DataFrame(list_df_covid_cases, columns=[\"COUNTRY\",\"Total Number of COVID Cases\"])"
   ]
  },
  {
   "cell_type": "code",
   "execution_count": 10,
   "id": "7888557c",
   "metadata": {},
   "outputs": [
    {
     "name": "stdout",
     "output_type": "stream",
     "text": [
      "<class 'pandas.core.frame.DataFrame'>\n"
     ]
    }
   ],
   "source": [
    "print(type(pandas_df))\n"
   ]
  },
  {
   "cell_type": "code",
   "execution_count": 15,
   "id": "c05c5545",
   "metadata": {},
   "outputs": [
    {
     "name": "stdout",
     "output_type": "stream",
     "text": [
      "               COUNTRY  Total Number of COVID Cases\n",
      "0          Afghanistan                      49273.0\n",
      "1              Albania                      48530.0\n",
      "2              Algeria                      92102.0\n",
      "3              Andorra                       7338.0\n",
      "4               Angola                      16188.0\n",
      "..                 ...                          ...\n",
      "209  Wallis and Futuna                          3.0\n",
      "210     Western Sahara                        766.0\n",
      "211              Yemen                       2083.0\n",
      "212             Zambia                      18274.0\n",
      "213           Zimbabwe                      11246.0\n",
      "\n",
      "[214 rows x 2 columns]\n"
     ]
    }
   ],
   "source": [
    "print(pandas_df)"
   ]
  },
  {
   "cell_type": "code",
   "execution_count": 16,
   "id": "38044e0c",
   "metadata": {},
   "outputs": [
    {
     "name": "stderr",
     "output_type": "stream",
     "text": [
      "2023-07-06 12:03:58.646 \n",
      "  \u001b[33m\u001b[1mWarning:\u001b[0m to view this Streamlit app on a browser, run it with the following\n",
      "  command:\n",
      "\n",
      "    streamlit run C:\\Users\\ac97599\\Anaconda3\\lib\\site-packages\\ipykernel_launcher.py [ARGUMENTS]\n"
     ]
    },
    {
     "data": {
      "text/plain": [
       "DeltaGenerator()"
      ]
     },
     "execution_count": 16,
     "metadata": {},
     "output_type": "execute_result"
    }
   ],
   "source": [
    "st.header(\"Starschema: COVID-19 Epidemiological Data\")\n",
    "st.subheader(\"Powered by Snowpark for Python and Snowflake Data Marketplace | Made with Streamlit\")"
   ]
  },
  {
   "cell_type": "code",
   "execution_count": 17,
   "id": "41de1f3b",
   "metadata": {},
   "outputs": [],
   "source": [
    "with st.container():\n",
    "   st.subheader('Number of Covid Cases by Country')\n",
    "   st.dataframe(pandas_df)\n",
    "\n",
    "\n",
    "with st.container():\n",
    "   st.subheader('Number of COVID Cases in Top 10 Countries')\n",
    "   with st.expander(\"\"):\n",
    "      pd_top_n = pandas_df.sort_values('Total Number of COVID Cases', ascending=False).head(10)\n",
    "      st.bar_chart(data=pd_top_n.set_index('COUNTRY'), width=850, height=500, use_container_width=True)"
   ]
  },
  {
   "cell_type": "code",
   "execution_count": 18,
   "id": "1093667d",
   "metadata": {},
   "outputs": [],
   "source": [
    "filtered_df=snow_df_covid_cases.filter(col('COUNTRY_REGION')==\"India\")"
   ]
  },
  {
   "cell_type": "code",
   "execution_count": 19,
   "id": "16652322",
   "metadata": {},
   "outputs": [
    {
     "name": "stdout",
     "output_type": "stream",
     "text": [
      "----------------------------------------------------\n",
      "|\"COUNTRY_REGION\"  |\"Total Number of COVID Cases\"  |\n",
      "----------------------------------------------------\n",
      "|India             |9884100.0                      |\n",
      "----------------------------------------------------\n",
      "\n"
     ]
    }
   ],
   "source": [
    "filtered_df.show()"
   ]
  },
  {
   "cell_type": "code",
   "execution_count": null,
   "id": "f79bbbf8",
   "metadata": {},
   "outputs": [],
   "source": []
  }
 ],
 "metadata": {
  "kernelspec": {
   "display_name": "Python 3",
   "language": "python",
   "name": "python3"
  },
  "language_info": {
   "codemirror_mode": {
    "name": "ipython",
    "version": 3
   },
   "file_extension": ".py",
   "mimetype": "text/x-python",
   "name": "python",
   "nbconvert_exporter": "python",
   "pygments_lexer": "ipython3",
   "version": "3.8.8"
  }
 },
 "nbformat": 4,
 "nbformat_minor": 5
}
